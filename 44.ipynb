{
 "cells": [
  {
   "cell_type": "code",
   "execution_count": 1,
   "metadata": {},
   "outputs": [
    {
     "name": "stdout",
     "output_type": "stream",
     "text": [
      "[0.02521995 0.06656155 0.1060368  0.14363536 0.1793521  0.21451412\n",
      " 0.24997187 0.28562766 0.32138276 0.35713828 0.39286461 0.42857742\n",
      " 0.46428716 0.49999911 0.5357132  0.57142782 0.60714245 0.64285678\n",
      " 0.67857105 0.71428525 0.74999934 0.78571385 0.82142806 0.85714233\n",
      " 0.8928569  0.92857105 0.96428537 0.99999934 1.03571367 1.07142818\n",
      " 1.10714233 1.14285684 1.17857099 1.21428514 1.24999952 1.28571367\n",
      " 1.32142818 1.35714245 1.3928566  1.42857111 1.4642849  1.49999881\n",
      " 1.53571355 1.57142806 1.60714245 1.64285636 1.67857099 1.7142849\n",
      " 1.74999928 1.78571367 1.82142818 1.85714245 1.89285684 1.92857111\n",
      " 1.96428514 1.99999976 2.03571415 2.07142854 2.10714269 2.14285707\n",
      " 2.17857122 2.21428537 2.25       2.28571463 2.32142878 2.35714293\n",
      " 2.39285707 2.42857122 2.46428537 2.5        2.53571439 2.57142878\n",
      " 2.60714293 2.64285707 2.67857099 2.71428561 2.75000048 2.78571439\n",
      " 2.82142901 2.85714221 2.89285374 2.92856646 2.96428609 3.00002384\n",
      " 3.03576326 3.07146001 3.1070416  3.14240885 3.17808962 3.21461558\n",
      " 3.25251698 3.29231715 3.32208776 3.34176397 3.351336   3.35084867\n",
      " 3.57676005 3.80423784 4.03275204 4.26176977]\n"
     ]
    }
   ],
   "source": [
    "import numpy as np\n",
    "from numpy import linalg\n",
    "import matplotlib.pyplot as plt\n",
    "n = 100\n",
    "A = np.zeros([n, n], dtype=np.float32)\n",
    "\n",
    "for j in range(0, n):\n",
    "    if (j >= 4):\n",
    "        A[j][j - 4:j + 5] = 1\n",
    "    else:\n",
    "        A[j][0:j + 5] = 1\n",
    "for j in range(0, n):\n",
    "    A[j][j] = (20)\n",
    "\n",
    "B = np.zeros([n, 1], dtype=np.float32)\n",
    "for j in range(0, n):\n",
    "    B[j][0] = j + 1\n",
    "C = np.linalg.solve(A, B)\n",
    "#print(C)\n",
    "\n",
    "def pvr(matr,resh):\n",
    "    m = len(matr)\n",
    "    x = [.0 for i in range(m)]\n",
    "    pogr = 1.\n",
    "    om = 1.5\n",
    "    while not pogr < 1e-4:\n",
    "        x_new = np.copy(x)\n",
    "        for i in range(m):\n",
    "            s1 = sum(matr[i][j] * x_new[j] for j in range(i))\n",
    "            s2 = sum(matr[i][j] * x[j] for j in range(i + 1, m))\n",
    "            x_new[i] = om * ((resh[i] - s1 - s2) / matr[i][i]) + (1 - om) * x[i]\n",
    "            pogr = sum(abs(x_new[i] - x[i]) for i in range(m))\n",
    "        x = x_new\n",
    "    return x\n",
    "x=(pvr(A,B))\n",
    "print(x)"
   ]
  },
  {
   "cell_type": "code",
   "execution_count": 2,
   "metadata": {},
   "outputs": [
    {
     "name": "stdout",
     "output_type": "stream",
     "text": [
      "[0.02522065 0.06656199 0.10603712 0.14363563 0.17935227 0.21451449\n",
      " 0.2499723  0.28562805 0.3213832  0.35713864 0.39286498 0.42857788\n",
      " 0.46428752 0.49999949 0.53571344 0.57142822 0.6071429  0.64285722\n",
      " 0.67857154 0.71428573 0.74999992 0.78571424 0.82142854 0.85714281\n",
      " 0.8928573  0.9285713  0.9642858  0.99999993 1.0357142  1.07142881\n",
      " 1.10714281 1.1428573  1.17857107 1.21428579 1.25000032 1.28571446\n",
      " 1.32142873 1.35714298 1.39285675 1.42857147 1.46428562 1.49999998\n",
      " 1.53571435 1.57142848 1.60714271 1.64285733 1.6785716  1.71428588\n",
      " 1.75000011 1.78571437 1.82142837 1.85714288 1.89285737 1.92857141\n",
      " 1.96428588 1.9999999  2.03571415 2.07142864 2.10714291 2.14285715\n",
      " 2.17857138 2.21428588 2.24999992 2.28571439 2.32142891 2.35714293\n",
      " 2.39285696 2.4285717  2.46428548 2.49999994 2.5357142  2.57142817\n",
      " 2.60714313 2.64285715 2.67857134 2.71428639 2.75000038 2.7857147\n",
      " 2.8214294  2.85714194 2.89285331 2.92856591 2.96428621 3.0000234\n",
      " 3.03576419 3.07146016 3.10704166 3.14240842 3.17808901 3.21461623\n",
      " 3.25251723 3.29231685 3.32208757 3.34176386 3.35133632 3.35084856\n",
      " 3.57676021 3.80423872 4.03275235 4.26177025]\n"
     ]
    }
   ],
   "source": [
    "def DivideRow(A, B, row, divider):\n",
    "    if divider != 0:\n",
    "        A[row,] /= divider\n",
    "        B[row, 0] /= divider\n",
    "        # A[row] = [a / divider for a in A[row]]\n",
    "    # print(\"\\n\",A)\n",
    "\n",
    "\n",
    "def SwapRows(A, B, row1, row2):\n",
    "    A[[row1, row2]] = A[[row2, row1]]\n",
    "    B[[row1, 0]] = B[[row2, 0]]\n",
    "    # print(\"\\n\",A)\n",
    "\n",
    "\n",
    "def CombineRows(A, B, row, destination_row, weight):\n",
    "    for i in range(n):\n",
    "        A[destination_row, i] += weight * A[row, i]\n",
    "    B[destination_row, 0] += weight * B[row, 0]\n",
    "    # print(\"\\n\",A)\n",
    "\n",
    "\n",
    "def matrix_to_triangle_view(A, B):\n",
    "    for i in range(n):\n",
    "        maximum = A[i, i]\n",
    "        maxstr = i\n",
    "        for j in range(i + 1, n):\n",
    "            if maximum < A[j, i]:\n",
    "                maxstr = j\n",
    "        if maxstr != i:\n",
    "            SwapRows(A, B, i, maxstr)\n",
    "        DivideRow(A, B, maxstr, A[maxstr][i])\n",
    "        for j in range(i + 1, n):\n",
    "            if A[j][i] != 0:\n",
    "                DivideRow(A, B, j, A[j][i])\n",
    "                CombineRows(A, B, maxstr, j, -1)\n",
    "\n",
    "def matrix_reversed_solving(A, B):\n",
    "    ANS = [B[n - 1, 0] / A[n - 1, n - 1]]\n",
    "    cnt = 0\n",
    "    for i in range(n - 2, -1, -1):\n",
    "        partial_sum = 0\n",
    "        t = 0\n",
    "        for j in range(n - 1, n - (len(ANS) + 1), -1):\n",
    "            partial_sum += A[i][j] * ANS[t]\n",
    "            t += 1\n",
    "        ANS.append((B[i, 0] - partial_sum) / A[i][j - 1])\n",
    "        cnt += 1\n",
    "    return np.flipud(np.array(ANS))\n",
    "\n",
    "\n",
    "def Gaussian_method(A, B):\n",
    "    matrix_to_triangle_view(A, B)\n",
    "    return matrix_reversed_solving(A, B)\n",
    "g = (Gaussian_method(A, B))\n",
    "print(g)"
   ]
  },
  {
   "cell_type": "code",
   "execution_count": 3,
   "metadata": {},
   "outputs": [
    {
     "ename": "NameError",
     "evalue": "name 'x' is not defined",
     "output_type": "error",
     "traceback": [
      "\u001b[1;31m---------------------------------------------------------------------------\u001b[0m",
      "\u001b[1;31mNameError\u001b[0m                                 Traceback (most recent call last)",
      "\u001b[1;32m<ipython-input-3-3d3960fdec10>\u001b[0m in \u001b[0;36m<module>\u001b[1;34m\u001b[0m\n\u001b[0;32m      8\u001b[0m         \u001b[0mr\u001b[0m\u001b[1;33m[\u001b[0m\u001b[0mi\u001b[0m\u001b[1;33m]\u001b[0m \u001b[1;33m=\u001b[0m \u001b[0mtemp\u001b[0m\u001b[1;33m[\u001b[0m\u001b[0mi\u001b[0m\u001b[1;33m]\u001b[0m \u001b[1;33m-\u001b[0m \u001b[0mB\u001b[0m\u001b[1;33m[\u001b[0m\u001b[0mi\u001b[0m\u001b[1;33m]\u001b[0m\u001b[1;33m\u001b[0m\u001b[1;33m\u001b[0m\u001b[0m\n\u001b[0;32m      9\u001b[0m     \u001b[1;32mreturn\u001b[0m \u001b[0mr\u001b[0m\u001b[1;33m\u001b[0m\u001b[1;33m\u001b[0m\u001b[0m\n\u001b[1;32m---> 10\u001b[1;33m \u001b[0mpvr\u001b[0m \u001b[1;33m=\u001b[0m \u001b[0mnevyazka\u001b[0m\u001b[1;33m(\u001b[0m\u001b[0mx\u001b[0m\u001b[1;33m)\u001b[0m\u001b[1;33m\u001b[0m\u001b[1;33m\u001b[0m\u001b[0m\n\u001b[0m\u001b[0;32m     11\u001b[0m \u001b[0mgaus\u001b[0m \u001b[1;33m=\u001b[0m \u001b[0mnevyazka\u001b[0m\u001b[1;33m(\u001b[0m\u001b[0mg\u001b[0m\u001b[1;33m)\u001b[0m\u001b[1;33m\u001b[0m\u001b[1;33m\u001b[0m\u001b[0m\n\u001b[0;32m     12\u001b[0m \u001b[1;33m\u001b[0m\u001b[0m\n",
      "\u001b[1;31mNameError\u001b[0m: name 'x' is not defined"
     ]
    }
   ],
   "source": [
    "def nevyazka(x):\n",
    "    temp = np.zeros((n, 1))\n",
    "    r = np.zeros((n, 1))\n",
    "    for i in range(len(A)):\n",
    "        temp[i] = 0\n",
    "        for j in range(len(A)):\n",
    "            temp[i] += x[j] * A[i][j]\n",
    "        r[i] = temp[i] - B[i]\n",
    "    return r\n",
    "pvr = nevyazka(x)\n",
    "gaus = nevyazka(g)\n",
    "\n",
    "def norm(x):\n",
    "    ss=0\n",
    "    for i in range(len(x)):\n",
    "        ss = ss + x[i]**2\n",
    "    return np.math.sqrt(ss)\n",
    "print(norm(pvr),linalg.norm(pvr))\n",
    "print(norm(gaus),linalg.norm(gaus))"
   ]
  },
  {
   "cell_type": "code",
   "execution_count": null,
   "metadata": {},
   "outputs": [],
   "source": []
  },
  {
   "cell_type": "code",
   "execution_count": null,
   "metadata": {},
   "outputs": [],
   "source": []
  }
 ],
 "metadata": {
  "kernelspec": {
   "display_name": "Python 3",
   "language": "python",
   "name": "python3"
  },
  "language_info": {
   "codemirror_mode": {
    "name": "ipython",
    "version": 3
   },
   "file_extension": ".py",
   "mimetype": "text/x-python",
   "name": "python",
   "nbconvert_exporter": "python",
   "pygments_lexer": "ipython3",
   "version": "3.8.5"
  }
 },
 "nbformat": 4,
 "nbformat_minor": 4
}
